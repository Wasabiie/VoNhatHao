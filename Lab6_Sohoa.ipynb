{
  "nbformat": 4,
  "nbformat_minor": 0,
  "metadata": {
    "colab": {
      "provenance": [],
      "gpuType": "T4",
      "authorship_tag": "ABX9TyOoKLsU6m/0IaBzTlB4TU9+",
      "include_colab_link": true
    },
    "kernelspec": {
      "name": "python3",
      "display_name": "Python 3"
    },
    "language_info": {
      "name": "python"
    },
    "accelerator": "GPU"
  },
  "cells": [
    {
      "cell_type": "markdown",
      "metadata": {
        "id": "view-in-github",
        "colab_type": "text"
      },
      "source": [
        "<a href=\"https://colab.research.google.com/github/Wasabiie/VoNhatHao/blob/main/Lab6_Sohoa.ipynb\" target=\"_parent\"><img src=\"https://colab.research.google.com/assets/colab-badge.svg\" alt=\"Open In Colab\"/></a>"
      ]
    },
    {
      "cell_type": "code",
      "execution_count": 1,
      "metadata": {
        "colab": {
          "base_uri": "https://localhost:8080/"
        },
        "id": "oLwaXqcf20zK",
        "outputId": "28d0c875-d1ac-4606-9068-26ae84ac43de"
      },
      "outputs": [
        {
          "output_type": "execute_result",
          "data": {
            "text/plain": [
              "True"
            ]
          },
          "metadata": {},
          "execution_count": 1
        }
      ],
      "source": [
        "import torch\n",
        "\n",
        "torch.cuda.is_available()"
      ]
    },
    {
      "cell_type": "code",
      "source": [],
      "metadata": {
        "id": "LDTFCT4W3Z1p"
      },
      "execution_count": null,
      "outputs": []
    },
    {
      "cell_type": "code",
      "source": [
        "import torch\n",
        "import numpy as np\n",
        "import pandas as pd\n",
        "import matplotlib.pyplot as plt\n",
        "\n",
        "df = pd.read_csv(\"/content/Iris.csv\")\n",
        "df.head()\n"
      ],
      "metadata": {
        "colab": {
          "base_uri": "https://localhost:8080/",
          "height": 206
        },
        "id": "F6cgS_Wq30bx",
        "outputId": "7d1975d5-4a91-4f06-d422-3632e229cc1c"
      },
      "execution_count": 5,
      "outputs": [
        {
          "output_type": "execute_result",
          "data": {
            "text/plain": [
              "   Id  SepalLengthCm  SepalWidthCm  PetalLengthCm  PetalWidthCm      Species\n",
              "0   1            5.1           3.5            1.4           0.2  Iris-setosa\n",
              "1   2            4.9           3.0            1.4           0.2  Iris-setosa\n",
              "2   3            4.7           3.2            1.3           0.2  Iris-setosa\n",
              "3   4            4.6           3.1            1.5           0.2  Iris-setosa\n",
              "4   5            5.0           3.6            1.4           0.2  Iris-setosa"
            ],
            "text/html": [
              "\n",
              "  <div id=\"df-bf63c361-8d22-4730-aab1-2c2915d198ff\" class=\"colab-df-container\">\n",
              "    <div>\n",
              "<style scoped>\n",
              "    .dataframe tbody tr th:only-of-type {\n",
              "        vertical-align: middle;\n",
              "    }\n",
              "\n",
              "    .dataframe tbody tr th {\n",
              "        vertical-align: top;\n",
              "    }\n",
              "\n",
              "    .dataframe thead th {\n",
              "        text-align: right;\n",
              "    }\n",
              "</style>\n",
              "<table border=\"1\" class=\"dataframe\">\n",
              "  <thead>\n",
              "    <tr style=\"text-align: right;\">\n",
              "      <th></th>\n",
              "      <th>Id</th>\n",
              "      <th>SepalLengthCm</th>\n",
              "      <th>SepalWidthCm</th>\n",
              "      <th>PetalLengthCm</th>\n",
              "      <th>PetalWidthCm</th>\n",
              "      <th>Species</th>\n",
              "    </tr>\n",
              "  </thead>\n",
              "  <tbody>\n",
              "    <tr>\n",
              "      <th>0</th>\n",
              "      <td>1</td>\n",
              "      <td>5.1</td>\n",
              "      <td>3.5</td>\n",
              "      <td>1.4</td>\n",
              "      <td>0.2</td>\n",
              "      <td>Iris-setosa</td>\n",
              "    </tr>\n",
              "    <tr>\n",
              "      <th>1</th>\n",
              "      <td>2</td>\n",
              "      <td>4.9</td>\n",
              "      <td>3.0</td>\n",
              "      <td>1.4</td>\n",
              "      <td>0.2</td>\n",
              "      <td>Iris-setosa</td>\n",
              "    </tr>\n",
              "    <tr>\n",
              "      <th>2</th>\n",
              "      <td>3</td>\n",
              "      <td>4.7</td>\n",
              "      <td>3.2</td>\n",
              "      <td>1.3</td>\n",
              "      <td>0.2</td>\n",
              "      <td>Iris-setosa</td>\n",
              "    </tr>\n",
              "    <tr>\n",
              "      <th>3</th>\n",
              "      <td>4</td>\n",
              "      <td>4.6</td>\n",
              "      <td>3.1</td>\n",
              "      <td>1.5</td>\n",
              "      <td>0.2</td>\n",
              "      <td>Iris-setosa</td>\n",
              "    </tr>\n",
              "    <tr>\n",
              "      <th>4</th>\n",
              "      <td>5</td>\n",
              "      <td>5.0</td>\n",
              "      <td>3.6</td>\n",
              "      <td>1.4</td>\n",
              "      <td>0.2</td>\n",
              "      <td>Iris-setosa</td>\n",
              "    </tr>\n",
              "  </tbody>\n",
              "</table>\n",
              "</div>\n",
              "    <div class=\"colab-df-buttons\">\n",
              "\n",
              "  <div class=\"colab-df-container\">\n",
              "    <button class=\"colab-df-convert\" onclick=\"convertToInteractive('df-bf63c361-8d22-4730-aab1-2c2915d198ff')\"\n",
              "            title=\"Convert this dataframe to an interactive table.\"\n",
              "            style=\"display:none;\">\n",
              "\n",
              "  <svg xmlns=\"http://www.w3.org/2000/svg\" height=\"24px\" viewBox=\"0 -960 960 960\">\n",
              "    <path d=\"M120-120v-720h720v720H120Zm60-500h600v-160H180v160Zm220 220h160v-160H400v160Zm0 220h160v-160H400v160ZM180-400h160v-160H180v160Zm440 0h160v-160H620v160ZM180-180h160v-160H180v160Zm440 0h160v-160H620v160Z\"/>\n",
              "  </svg>\n",
              "    </button>\n",
              "\n",
              "  <style>\n",
              "    .colab-df-container {\n",
              "      display:flex;\n",
              "      gap: 12px;\n",
              "    }\n",
              "\n",
              "    .colab-df-convert {\n",
              "      background-color: #E8F0FE;\n",
              "      border: none;\n",
              "      border-radius: 50%;\n",
              "      cursor: pointer;\n",
              "      display: none;\n",
              "      fill: #1967D2;\n",
              "      height: 32px;\n",
              "      padding: 0 0 0 0;\n",
              "      width: 32px;\n",
              "    }\n",
              "\n",
              "    .colab-df-convert:hover {\n",
              "      background-color: #E2EBFA;\n",
              "      box-shadow: 0px 1px 2px rgba(60, 64, 67, 0.3), 0px 1px 3px 1px rgba(60, 64, 67, 0.15);\n",
              "      fill: #174EA6;\n",
              "    }\n",
              "\n",
              "    .colab-df-buttons div {\n",
              "      margin-bottom: 4px;\n",
              "    }\n",
              "\n",
              "    [theme=dark] .colab-df-convert {\n",
              "      background-color: #3B4455;\n",
              "      fill: #D2E3FC;\n",
              "    }\n",
              "\n",
              "    [theme=dark] .colab-df-convert:hover {\n",
              "      background-color: #434B5C;\n",
              "      box-shadow: 0px 1px 3px 1px rgba(0, 0, 0, 0.15);\n",
              "      filter: drop-shadow(0px 1px 2px rgba(0, 0, 0, 0.3));\n",
              "      fill: #FFFFFF;\n",
              "    }\n",
              "  </style>\n",
              "\n",
              "    <script>\n",
              "      const buttonEl =\n",
              "        document.querySelector('#df-bf63c361-8d22-4730-aab1-2c2915d198ff button.colab-df-convert');\n",
              "      buttonEl.style.display =\n",
              "        google.colab.kernel.accessAllowed ? 'block' : 'none';\n",
              "\n",
              "      async function convertToInteractive(key) {\n",
              "        const element = document.querySelector('#df-bf63c361-8d22-4730-aab1-2c2915d198ff');\n",
              "        const dataTable =\n",
              "          await google.colab.kernel.invokeFunction('convertToInteractive',\n",
              "                                                    [key], {});\n",
              "        if (!dataTable) return;\n",
              "\n",
              "        const docLinkHtml = 'Like what you see? Visit the ' +\n",
              "          '<a target=\"_blank\" href=https://colab.research.google.com/notebooks/data_table.ipynb>data table notebook</a>'\n",
              "          + ' to learn more about interactive tables.';\n",
              "        element.innerHTML = '';\n",
              "        dataTable['output_type'] = 'display_data';\n",
              "        await google.colab.output.renderOutput(dataTable, element);\n",
              "        const docLink = document.createElement('div');\n",
              "        docLink.innerHTML = docLinkHtml;\n",
              "        element.appendChild(docLink);\n",
              "      }\n",
              "    </script>\n",
              "  </div>\n",
              "\n",
              "\n",
              "<div id=\"df-f7a32cd6-4930-4097-91cf-641301c2f77a\">\n",
              "  <button class=\"colab-df-quickchart\" onclick=\"quickchart('df-f7a32cd6-4930-4097-91cf-641301c2f77a')\"\n",
              "            title=\"Suggest charts\"\n",
              "            style=\"display:none;\">\n",
              "\n",
              "<svg xmlns=\"http://www.w3.org/2000/svg\" height=\"24px\"viewBox=\"0 0 24 24\"\n",
              "     width=\"24px\">\n",
              "    <g>\n",
              "        <path d=\"M19 3H5c-1.1 0-2 .9-2 2v14c0 1.1.9 2 2 2h14c1.1 0 2-.9 2-2V5c0-1.1-.9-2-2-2zM9 17H7v-7h2v7zm4 0h-2V7h2v10zm4 0h-2v-4h2v4z\"/>\n",
              "    </g>\n",
              "</svg>\n",
              "  </button>\n",
              "\n",
              "<style>\n",
              "  .colab-df-quickchart {\n",
              "      --bg-color: #E8F0FE;\n",
              "      --fill-color: #1967D2;\n",
              "      --hover-bg-color: #E2EBFA;\n",
              "      --hover-fill-color: #174EA6;\n",
              "      --disabled-fill-color: #AAA;\n",
              "      --disabled-bg-color: #DDD;\n",
              "  }\n",
              "\n",
              "  [theme=dark] .colab-df-quickchart {\n",
              "      --bg-color: #3B4455;\n",
              "      --fill-color: #D2E3FC;\n",
              "      --hover-bg-color: #434B5C;\n",
              "      --hover-fill-color: #FFFFFF;\n",
              "      --disabled-bg-color: #3B4455;\n",
              "      --disabled-fill-color: #666;\n",
              "  }\n",
              "\n",
              "  .colab-df-quickchart {\n",
              "    background-color: var(--bg-color);\n",
              "    border: none;\n",
              "    border-radius: 50%;\n",
              "    cursor: pointer;\n",
              "    display: none;\n",
              "    fill: var(--fill-color);\n",
              "    height: 32px;\n",
              "    padding: 0;\n",
              "    width: 32px;\n",
              "  }\n",
              "\n",
              "  .colab-df-quickchart:hover {\n",
              "    background-color: var(--hover-bg-color);\n",
              "    box-shadow: 0 1px 2px rgba(60, 64, 67, 0.3), 0 1px 3px 1px rgba(60, 64, 67, 0.15);\n",
              "    fill: var(--button-hover-fill-color);\n",
              "  }\n",
              "\n",
              "  .colab-df-quickchart-complete:disabled,\n",
              "  .colab-df-quickchart-complete:disabled:hover {\n",
              "    background-color: var(--disabled-bg-color);\n",
              "    fill: var(--disabled-fill-color);\n",
              "    box-shadow: none;\n",
              "  }\n",
              "\n",
              "  .colab-df-spinner {\n",
              "    border: 2px solid var(--fill-color);\n",
              "    border-color: transparent;\n",
              "    border-bottom-color: var(--fill-color);\n",
              "    animation:\n",
              "      spin 1s steps(1) infinite;\n",
              "  }\n",
              "\n",
              "  @keyframes spin {\n",
              "    0% {\n",
              "      border-color: transparent;\n",
              "      border-bottom-color: var(--fill-color);\n",
              "      border-left-color: var(--fill-color);\n",
              "    }\n",
              "    20% {\n",
              "      border-color: transparent;\n",
              "      border-left-color: var(--fill-color);\n",
              "      border-top-color: var(--fill-color);\n",
              "    }\n",
              "    30% {\n",
              "      border-color: transparent;\n",
              "      border-left-color: var(--fill-color);\n",
              "      border-top-color: var(--fill-color);\n",
              "      border-right-color: var(--fill-color);\n",
              "    }\n",
              "    40% {\n",
              "      border-color: transparent;\n",
              "      border-right-color: var(--fill-color);\n",
              "      border-top-color: var(--fill-color);\n",
              "    }\n",
              "    60% {\n",
              "      border-color: transparent;\n",
              "      border-right-color: var(--fill-color);\n",
              "    }\n",
              "    80% {\n",
              "      border-color: transparent;\n",
              "      border-right-color: var(--fill-color);\n",
              "      border-bottom-color: var(--fill-color);\n",
              "    }\n",
              "    90% {\n",
              "      border-color: transparent;\n",
              "      border-bottom-color: var(--fill-color);\n",
              "    }\n",
              "  }\n",
              "</style>\n",
              "\n",
              "  <script>\n",
              "    async function quickchart(key) {\n",
              "      const quickchartButtonEl =\n",
              "        document.querySelector('#' + key + ' button');\n",
              "      quickchartButtonEl.disabled = true;  // To prevent multiple clicks.\n",
              "      quickchartButtonEl.classList.add('colab-df-spinner');\n",
              "      try {\n",
              "        const charts = await google.colab.kernel.invokeFunction(\n",
              "            'suggestCharts', [key], {});\n",
              "      } catch (error) {\n",
              "        console.error('Error during call to suggestCharts:', error);\n",
              "      }\n",
              "      quickchartButtonEl.classList.remove('colab-df-spinner');\n",
              "      quickchartButtonEl.classList.add('colab-df-quickchart-complete');\n",
              "    }\n",
              "    (() => {\n",
              "      let quickchartButtonEl =\n",
              "        document.querySelector('#df-f7a32cd6-4930-4097-91cf-641301c2f77a button');\n",
              "      quickchartButtonEl.style.display =\n",
              "        google.colab.kernel.accessAllowed ? 'block' : 'none';\n",
              "    })();\n",
              "  </script>\n",
              "</div>\n",
              "\n",
              "    </div>\n",
              "  </div>\n"
            ],
            "application/vnd.google.colaboratory.intrinsic+json": {
              "type": "dataframe",
              "variable_name": "df",
              "summary": "{\n  \"name\": \"df\",\n  \"rows\": 150,\n  \"fields\": [\n    {\n      \"column\": \"Id\",\n      \"properties\": {\n        \"dtype\": \"number\",\n        \"std\": 43,\n        \"min\": 1,\n        \"max\": 150,\n        \"num_unique_values\": 150,\n        \"samples\": [\n          74,\n          19,\n          119\n        ],\n        \"semantic_type\": \"\",\n        \"description\": \"\"\n      }\n    },\n    {\n      \"column\": \"SepalLengthCm\",\n      \"properties\": {\n        \"dtype\": \"number\",\n        \"std\": 0.8280661279778629,\n        \"min\": 4.3,\n        \"max\": 7.9,\n        \"num_unique_values\": 35,\n        \"samples\": [\n          6.2,\n          4.5,\n          5.6\n        ],\n        \"semantic_type\": \"\",\n        \"description\": \"\"\n      }\n    },\n    {\n      \"column\": \"SepalWidthCm\",\n      \"properties\": {\n        \"dtype\": \"number\",\n        \"std\": 0.4335943113621737,\n        \"min\": 2.0,\n        \"max\": 4.4,\n        \"num_unique_values\": 23,\n        \"samples\": [\n          2.3,\n          4.0,\n          3.5\n        ],\n        \"semantic_type\": \"\",\n        \"description\": \"\"\n      }\n    },\n    {\n      \"column\": \"PetalLengthCm\",\n      \"properties\": {\n        \"dtype\": \"number\",\n        \"std\": 1.7644204199522617,\n        \"min\": 1.0,\n        \"max\": 6.9,\n        \"num_unique_values\": 43,\n        \"samples\": [\n          6.7,\n          3.8,\n          3.7\n        ],\n        \"semantic_type\": \"\",\n        \"description\": \"\"\n      }\n    },\n    {\n      \"column\": \"PetalWidthCm\",\n      \"properties\": {\n        \"dtype\": \"number\",\n        \"std\": 0.7631607417008414,\n        \"min\": 0.1,\n        \"max\": 2.5,\n        \"num_unique_values\": 22,\n        \"samples\": [\n          0.2,\n          1.2,\n          1.3\n        ],\n        \"semantic_type\": \"\",\n        \"description\": \"\"\n      }\n    },\n    {\n      \"column\": \"Species\",\n      \"properties\": {\n        \"dtype\": \"category\",\n        \"num_unique_values\": 3,\n        \"samples\": [\n          \"Iris-setosa\",\n          \"Iris-versicolor\",\n          \"Iris-virginica\"\n        ],\n        \"semantic_type\": \"\",\n        \"description\": \"\"\n      }\n    }\n  ]\n}"
            }
          },
          "metadata": {},
          "execution_count": 5
        }
      ]
    },
    {
      "cell_type": "code",
      "source": [
        "from sklearn.preprocessing import LabelEncoder\n",
        "from sklearn.model_selection import train_test_split\n",
        "\n",
        "le = LabelEncoder()\n",
        "x = df.drop([\"Species\"], axis=1).values\n",
        "y = le.fit_transform(df[\"Species\"].values)\n",
        "\n",
        "x_train, x_test, y_train, y_test = train_test_split(x,y,test_size = 0.2, random_state=42)\n",
        "\n",
        "x_train = torch.FloatTensor(x_train)\n",
        "x_test = torch.FloatTensor(x_test)\n",
        "y_train = torch.LongTensor(y_train).reshape(-1,1)\n",
        "y_test = torch.LongTensor(y_test).reshape(-1,1)\n",
        "print(f\"train_size : {len(y_train)}\")"
      ],
      "metadata": {
        "colab": {
          "base_uri": "https://localhost:8080/"
        },
        "id": "Cq_qaGS_5OHY",
        "outputId": "20ad0ebd-7de2-4cb4-ebf1-d4a467f7829d"
      },
      "execution_count": 17,
      "outputs": [
        {
          "output_type": "stream",
          "name": "stdout",
          "text": [
            "train_size : 120\n"
          ]
        }
      ]
    },
    {
      "cell_type": "code",
      "source": [
        "labels, counts = y_train.unique(return_counts=True)\n",
        "print(labels, counts)"
      ],
      "metadata": {
        "colab": {
          "base_uri": "https://localhost:8080/"
        },
        "id": "itBahK2bBXbz",
        "outputId": "b922d43b-6663-4971-c1c7-76ec5553caa5"
      },
      "execution_count": 18,
      "outputs": [
        {
          "output_type": "stream",
          "name": "stdout",
          "text": [
            "tensor([0, 1, 2]) tensor([40, 41, 39])\n"
          ]
        }
      ]
    },
    {
      "cell_type": "code",
      "source": [
        "import torch\n",
        "\n",
        "# Khai báo giá trị x\n",
        "x = torch.tensor(2.0, requires_grad=True)\n",
        "# Tính y\n",
        "y = 2 * x**4 + x**3 + 3 * x**2 + 5 * x + 1\n",
        "\n",
        "# Tính đạo hàm\n",
        "y.backward()\n",
        "\n",
        "# In kết quả\n",
        "print(\"Giá trị y:\", y.item())\n",
        "print(\"Đạo hàm tại x =\", x.item(), \"là:\", x.grad.item())"
      ],
      "metadata": {
        "colab": {
          "base_uri": "https://localhost:8080/"
        },
        "id": "BWocDJcBBjnZ",
        "outputId": "48270fb1-df8f-4c81-9ef3-94db6b0eb08c"
      },
      "execution_count": 21,
      "outputs": [
        {
          "output_type": "stream",
          "name": "stdout",
          "text": [
            "Giá trị y: 63.0\n",
            "Đạo hàm tại x = 2.0 là: 93.0\n"
          ]
        }
      ]
    },
    {
      "cell_type": "code",
      "source": [
        "import torch\n",
        "x = torch.tensor(2.0, requires_grad=True)\n",
        "print(x)\n",
        "print(x.grad)"
      ],
      "metadata": {
        "colab": {
          "base_uri": "https://localhost:8080/"
        },
        "id": "W6iRdGW7CZLT",
        "outputId": "c699f78e-7aa1-487d-b2dd-05929db143d4"
      },
      "execution_count": 22,
      "outputs": [
        {
          "output_type": "stream",
          "name": "stdout",
          "text": [
            "tensor(2., requires_grad=True)\n",
            "None\n"
          ]
        }
      ]
    },
    {
      "cell_type": "code",
      "source": [
        "import sympy as sp\n",
        "\n",
        "# Định nghĩa biến và hàm số\n",
        "x = sp.symbols('x')\n",
        "y = 5*x**6 + 3*x**3 + 2*x + x + 2 * x + 5*x**4 + 1\n",
        "\n",
        "# Đơn giản hóa đa thức\n",
        "y = sp.simplify(y)\n",
        "\n",
        "# Tính đạo hàm\n",
        "dy_dx = sp.diff(y, x)\n",
        "\n",
        "# In đạo hàm\n",
        "print(f\"Đạo hàm của y theo x: {dy_dx}\")\n",
        "\n",
        "# Tính độ dốc tại một điểm cụ thể\n",
        "a = 2\n",
        "gradient_at_a = dy_dx.subs(x, a)\n",
        "print(f\"Độ dốc tại x = {a} : {gradient_at_a}\")"
      ],
      "metadata": {
        "colab": {
          "base_uri": "https://localhost:8080/"
        },
        "id": "sndxcbu5HA68",
        "outputId": "c9f2cf42-b333-4469-ee82-d309a60eca4f"
      },
      "execution_count": 48,
      "outputs": [
        {
          "output_type": "stream",
          "name": "stdout",
          "text": [
            "Đạo hàm của y theo x: 30*x**5 + 20*x**3 + 9*x**2 + 5\n",
            "Độ dốc tại x = 2 : 1161\n"
          ]
        }
      ]
    },
    {
      "cell_type": "code",
      "source": [
        "import torch\n",
        "\n",
        "# Bước 1: Tạo tensor với giá trị ban đầu là 2.0\n",
        "x = torch.tensor(2.0, requires_grad=True)\n",
        "\n",
        "# Bước 2: Định nghĩa hàm số y = x^3 + 2x^2 + 5x + 1\n",
        "def y(x):\n",
        "    return x**3 + 2*x**2 + 5*x + 1\n",
        "\n",
        "# Bước 3: Đặt learning rate và số vòng lặp\n",
        "learning_rate = 0.1\n",
        "num_epochs = 10\n",
        "\n",
        "# Bước 4: Thực hiện Gradient Descent\n",
        "for epoch in range(num_epochs):\n",
        "    # Tính giá trị của y\n",
        "    y_value = y(x)\n",
        "\n",
        "    # Tính gradient của y đối với x\n",
        "    y_value.backward()\n",
        "\n",
        "    # Cập nhật giá trị của x\n",
        "    with torch.no_grad():\n",
        "        x -= learning_rate * x.grad\n",
        "\n",
        "    # Đặt lại gradient về 0 cho vòng lặp tiếp theo\n",
        "    x.grad.zero_()\n",
        "\n",
        "    # In giá trị của x và y sau mỗi vòng lặp\n",
        "    print(f'Vòng lặp [{epoch + 1}/{num_epochs}], x: {x.item():.4f}, y: {y_value.item():.4f}')\n",
        "\n",
        "# Kết quả cuối cùng\n",
        "print(f'Giá trị cuối cùng của x: {x.item():.4f}')"
      ],
      "metadata": {
        "colab": {
          "base_uri": "https://localhost:8080/"
        },
        "id": "mbn7fztmGfCT",
        "outputId": "24c3ad8f-a366-4459-f537-4f94042c6129"
      },
      "execution_count": 33,
      "outputs": [
        {
          "output_type": "stream",
          "name": "stdout",
          "text": [
            "Vòng lặp [1/10], x: -0.5000, y: 27.0000\n",
            "Vòng lặp [2/10], x: -0.8750, y: -1.1250\n",
            "Vòng lặp [3/10], x: -1.2547, y: -2.5137\n",
            "Vòng lặp [4/10], x: -1.7251, y: -4.1001\n",
            "Vòng lặp [5/10], x: -2.4278, y: -6.8073\n",
            "Vòng lặp [6/10], x: -3.7250, y: -13.6609\n",
            "Vòng lặp [7/10], x: -6.8977, y: -41.5604\n",
            "Vòng lặp [8/10], x: -18.9120, y: -266.5102\n",
            "Vòng lặp [9/10], x: -119.1464, y: -6142.3750\n",
            "Vòng lặp [10/10], x: -4330.7476, y: -1663589.5000\n",
            "Giá trị cuối cùng của x: -4330.7476\n"
          ]
        }
      ]
    },
    {
      "cell_type": "code",
      "source": [
        "import torch\n",
        "import numpy as np\n",
        "\n",
        "# Bước 1: Tạo dữ liệu\n",
        "torch.manual_seed(0)\n",
        "x = torch.randint(1, 11, (100,), dtype=torch.float32).requires_grad_(True)\n",
        "noise = torch.randn(100) * 0.5\n",
        "y_true = 3 * x + 5 + noise\n",
        "\n",
        "# Bước 2: Khởi tạo tham số\n",
        "w = torch.randn(1, requires_grad=True)\n",
        "b = torch.randn(1, requires_grad=True)\n",
        "\n",
        "# Bước 3: Định nghĩa hàm MSE\n",
        "def mse(y_true, y_pred):\n",
        "    return ((y_true - y_pred) ** 2).mean()\n",
        "\n",
        "# Bước 4: Lập trình Gradient Descent\n",
        "learning_rate = 0.01\n",
        "num_epochs = 100\n",
        "\n",
        "for epoch in range(num_epochs):\n",
        "    # Tính giá trị dự đoán\n",
        "    y_pred = w * x + b\n",
        "\n",
        "    # Tính MSE\n",
        "    loss = mse(y_true, y_pred)\n",
        "\n",
        "    # Tính gradient\n",
        "    loss.backward(retain_graph=True)  # Retain the graph for the next backward pass\n",
        "\n",
        "    # Cập nhật tham số\n",
        "    with torch.no_grad():\n",
        "        w -= learning_rate * w.grad\n",
        "        b -= learning_rate * b.grad\n",
        "\n",
        "    # Đặt lại gradient về 0 cho vòng lặp tiếp theo\n",
        "    w.grad.zero_()\n",
        "    b.grad.zero_()\n",
        "\n",
        "    # In giá trị mất mát sau mỗi 10 vòng\n",
        "    if (epoch + 1) % 10 == 0:\n",
        "        print(f'Epoch [{epoch + 1}/{num_epochs}], Loss: {loss.item():.4f}')\n",
        "\n",
        "# Kết quả cuối cùng\n",
        "print(f'Tham số cuối cùng: w = {w.item()}, b = {b.item()}')"
      ],
      "metadata": {
        "colab": {
          "base_uri": "https://localhost:8080/"
        },
        "id": "Mm-KMpxFFJVS",
        "outputId": "4f564b33-9ee5-4c94-d9a5-c7b25773f09e"
      },
      "execution_count": 30,
      "outputs": [
        {
          "output_type": "stream",
          "name": "stdout",
          "text": [
            "Epoch [10/100], Loss: 5.2748\n",
            "Epoch [20/100], Loss: 4.8557\n",
            "Epoch [30/100], Loss: 4.4713\n",
            "Epoch [40/100], Loss: 4.1186\n",
            "Epoch [50/100], Loss: 3.7951\n",
            "Epoch [60/100], Loss: 3.4984\n",
            "Epoch [70/100], Loss: 3.2261\n",
            "Epoch [80/100], Loss: 2.9764\n",
            "Epoch [90/100], Loss: 2.7474\n",
            "Epoch [100/100], Loss: 2.5373\n",
            "Tham số cuối cùng: w = 3.4641854763031006, b = 1.6726096868515015\n"
          ]
        }
      ]
    },
    {
      "cell_type": "code",
      "source": [
        "import torch\n",
        "arr = np.arange(0,5)\n",
        "x = torch.tensor(arr)\n",
        "print(x)  # tensor([0, 1, 2, 3, 4])\n",
        "\n",
        "arr[0] = 99\n",
        "print(x)  # tensor([0, 1, 2, 3, 4])\n",
        "\n",
        "\n",
        "# Tạo tensor rỗng với kích thước (2, 3)\n",
        "x = torch.empty(2, 3)\n",
        "print(x)\n",
        "print(\"               \")\n",
        "# Tạo tensor chứa toàn số 0 với kích thước (2, 3)\n",
        "x = torch.zeros(2, 3)\n",
        "print(x)\n",
        "print(\"               \")\n",
        "# Tạo tensor chứa toàn số 1 với kích thước (2, 3)\n",
        "x = torch.ones(2, 3)\n",
        "print(x)\n",
        "print(\"               \")\n",
        "# Tạo tensor với giá trị ngẫu nhiên từ phân phối đều trong khoảng [0, 1) với kích thước (2, 3)\n",
        "x = torch.rand(2, 3)\n",
        "print(x)\n",
        "print(\"               \")\n",
        "# Tạo tensor với kích thước (2, 3)\n",
        "x = torch.tensor([[1, 2, 3], [4, 5, 6]])\n",
        "print(\"               \")\n",
        "# Reshape tensor thành kích thước (3, 2) sử dụng view\n",
        "y = x.view(3, 2)\n",
        "print(y)\n",
        "print(\"               \")\n",
        "# Reshape tensor thành kích thước của tensor khác sử dụng view_as\n",
        "z = torch.tensor([[1, 2], [3, 4], [5, 6]])\n",
        "y = x.view_as(z)\n",
        "print(y)\n"
      ],
      "metadata": {
        "colab": {
          "base_uri": "https://localhost:8080/"
        },
        "id": "PfpSP1IIMj0U",
        "outputId": "5790ac0c-1342-4689-c8db-28308e537b57"
      },
      "execution_count": 52,
      "outputs": [
        {
          "output_type": "stream",
          "name": "stdout",
          "text": [
            "tensor([0, 1, 2, 3, 4])\n",
            "tensor([0, 1, 2, 3, 4])\n",
            "tensor([[3.2169e-32, 0.0000e+00, 1.0932e-32],\n",
            "        [0.0000e+00, 1.1210e-43, 0.0000e+00]])\n",
            "               \n",
            "tensor([[0., 0., 0.],\n",
            "        [0., 0., 0.]])\n",
            "               \n",
            "tensor([[1., 1., 1.],\n",
            "        [1., 1., 1.]])\n",
            "               \n",
            "tensor([[0.2881, 0.6471, 0.6651],\n",
            "        [0.8751, 0.3390, 0.5008]])\n",
            "               \n",
            "               \n",
            "tensor([[1, 2],\n",
            "        [3, 4],\n",
            "        [5, 6]])\n",
            "               \n",
            "tensor([[1, 2],\n",
            "        [3, 4],\n",
            "        [5, 6]])\n"
          ]
        }
      ]
    }
  ]
}